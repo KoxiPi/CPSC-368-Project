{
 "cells": [
  {
   "cell_type": "code",
   "execution_count": null,
   "id": "48f44117-9c2a-4eeb-acda-062e216d2eb2",
   "metadata": {},
   "outputs": [],
   "source": [
    "# Research Question 1\n",
    "\n",
    "SELECT year_,\n",
    "       ROUND(AVG(Pct_Telehealth) * 100, 2) AS avg_pct_telehealth\n",
    "FROM medicare_telehealth_cleaned\n",
    "WHERE Bene_Geo_Desc = 'National'\n",
    "  AND Bene_Age_Desc = 'All'\n",
    "  AND Bene_RUCA Desc = 'All'\n",
    "GROUP BY year_\n",
    "ORDER BY year_;"
   ]
  },
  {
   "cell_type": "code",
   "execution_count": null,
   "id": "fcbfeb7a-7df7-416a-a1b9-332a5b22b0d5",
   "metadata": {},
   "outputs": [],
   "source": [
    "# Research Question 2\n",
    "\n",
    "# dataset: medicare_telehealth_cleaned\n",
    "SELECT Bene_RUCA_Desc,\n",
    "       ROUND(AVG (Total_Bene_Telehealth)) AS avg_telehealth visits\n",
    "FROM medicare_telehealth_cleaned\n",
    "WHERE Bene_RUCA Desc IN ('Rural', 'Urban')\n",
    "  AND Bene _Geo_Desc = 'National'\n",
    "GROUP BY Bene_RUCA_Desc;\n",
    "\n",
    "# dataset: telemedicine_by_age\n",
    "SELECT State_,\n",
    "       ROUND (AVG (Value_, 2) AS avg pct_telehealth\n",
    "FROM telemedicine_by_state\n",
    "GROUP BY State_\n",
    "ORDER BY avg_pct_telehealth DESC;"
   ]
  },
  {
   "cell_type": "raw",
   "id": "1a0b46fc-a27b-44cb-b0bf-7a20b5ee995c",
   "metadata": {},
   "source": [
    "# Research Question 3\n",
    "\n",
    "# dataset: medicare_telehealth_cleaned\n",
    "SELECT Bene_Age_Desc,\n",
    "       ROUND(AVG(Pct_Telehealth) * 100, 2) AS avg_pct_telehealth\n",
    "FROM medicare_telehealth_cleaned\n",
    "WHERE Bene_Age_Desc != 'All'\n",
    "AND Bene_Geo_Desc = 'National'\n",
    "GROUP BY Bene_Age_Desc\n",
    "ORDER BY avg_pct_telehealth DESC;\n",
    "\n",
    "# dataset: telemedicine_by_age\n",
    "SELECT Subgroup AS age_group,\n",
    "    ROUND(AVG (Value_), 2) AS avg_pct_telehealth\n",
    "FROM telemedicine_by_age\n",
    "GROUP BY Subgroup\n",
    "ORDER BY avg_pct_telehealth DESC;"
   ]
  }
 ],
 "metadata": {
  "kernelspec": {
   "display_name": "",
   "name": ""
  },
  "language_info": {
   "name": ""
  }
 },
 "nbformat": 4,
 "nbformat_minor": 5
}
