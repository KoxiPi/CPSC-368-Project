{
 "cells": [
  {
   "cell_type": "code",
   "execution_count": 1,
   "id": "58492a5d-c1f4-48a6-9c89-322ff405edc2",
   "metadata": {},
   "outputs": [],
   "source": [
    "import pandas as pd"
   ]
  },
  {
   "cell_type": "code",
   "execution_count": 2,
   "id": "1896abca-955d-448d-9694-e7e1e22f40f3",
   "metadata": {},
   "outputs": [],
   "source": [
    "medicare_telehealth = pd.read_csv('./data/Medicare_Telehealth_Trends_Q2_2024.csv')\n",
    "\n",
    "telemedicine_use = pd.read_csv('./data/Telemedicine_Use_in_the_Last_4_Weeks.csv')"
   ]
  },
  {
   "cell_type": "code",
   "execution_count": 3,
   "id": "32625831-0bb5-482a-a9a7-55b3b9501014",
   "metadata": {},
   "outputs": [],
   "source": [
    "# Drop unnecessary columns\n",
    "telemedicine_reduced = telemedicine_use.drop(columns=[\n",
    "    'Indicator', 'Phase', 'Confidence Interval', 'Quartile Range', 'Suppression Flag'\n",
    "])\n",
    "\n",
    "medicare_reduced = medicare_telehealth.drop(columns=[\n",
    "    'Bene_Mdcr_Entlmt_Stus', 'Total_PartB_Enrl'\n",
    "])\n",
    "\n",
    "# Drop na value\n",
    "telemedicine_final = telemedicine_reduced.dropna()\n",
    "medicare_final = medicare_reduced.dropna()\n",
    "\n",
    "# Save the cleaned datasets into /data directory with id\n",
    "telemedicine_final.to_csv('./data/telemedicine_cleaned.csv', index_label='ID')\n",
    "medicare_final.to_csv('./data/medicare_cleaned.csv', index_label='ID')"
   ]
  },
  {
   "cell_type": "code",
   "execution_count": 4,
   "id": "da93608b-ab96-4290-884c-b8849f9b13c9",
   "metadata": {},
   "outputs": [
    {
     "data": {
      "text/plain": [
       "['./data/telemedicine_group_National_Estimate.csv',\n",
       " './data/telemedicine_group_By_Age.csv',\n",
       " './data/telemedicine_group_By_State.csv']"
      ]
     },
     "execution_count": 4,
     "metadata": {},
     "output_type": "execute_result"
    }
   ],
   "source": [
    "# Splits the telemedicine dataset by 'Group' and saves each group as a separate CSV file.\n",
    "# Only keep and generate CSV files for specific groups that are needed\n",
    "# These are: 'National Estimate', 'By Age', 'By State'\n",
    "groups = ['National Estimate', 'By Age', 'By State']\n",
    "\n",
    "datasets = {group: telemedicine_final[telemedicine_final['Group'] == group] for group in groups}\n",
    "\n",
    "saved_files = []\n",
    "for group, df in datasets.items():\n",
    "    save_group_name = group.replace('/', '_').replace(' ', '_').replace('?', '').replace(':', '')\n",
    "    filename = f'./data/telemedicine_group_{save_group_name}.csv'\n",
    "    df.to_csv(filename, index=False)\n",
    "    saved_files.append(filename)\n",
    "\n",
    "saved_files"
   ]
  },
  {
   "cell_type": "code",
   "execution_count": 5,
   "id": "83da5c8e-c20e-47b1-a362-5f0746973906",
   "metadata": {},
   "outputs": [
    {
     "data": {
      "text/plain": [
       "'./data/telemedicine_groups.sql'"
      ]
     },
     "execution_count": 5,
     "metadata": {},
     "output_type": "execute_result"
    }
   ],
   "source": [
    "# Convert cleaned telemedicine CSV files to sql\n",
    "\n",
    "telemedicine_national_estimate = pd.read_csv('./data/telemedicine_group_National_Estimate.csv')\n",
    "telemedicine_by_age = pd.read_csv('./data/telemedicine_group_By_Age.csv')\n",
    "telemedicine_by_state = pd.read_csv('./data/telemedicine_group_By_State.csv')\n",
    "\n",
    "telemedicine_datasets = {\n",
    "    \"telemedicine_national_estimate\": telemedicine_national_estimate,\n",
    "    \"telemedicine_by_age\": telemedicine_by_age,\n",
    "    \"telemedicine_by_state\": telemedicine_by_state\n",
    "}\n",
    "\n",
    "# Function to assign correct SQL type\n",
    "def get_sql_type_telemedicine(col):\n",
    "    if col == 'Time Period':\n",
    "        return \"INTEGER\"\n",
    "    elif col == 'Value':\n",
    "        return \"FLOAT\"\n",
    "    elif col in ['Low CI', 'High CI']:\n",
    "        return \"FLOAT\"\n",
    "    elif col in ['Time Period Start Date', 'Time Period End Date']:\n",
    "        return \"DATE\"\n",
    "    else:\n",
    "        return \"TEXT\"\n",
    "\n",
    "# Function to convert date format MM/DD/YYYY to YYYY-MM-DD\n",
    "def convert_date_format(date_str):\n",
    "    if pd.isnull(date_str):\n",
    "        return None\n",
    "    try:\n",
    "        return pd.to_datetime(date_str, format='%m/%d/%Y').strftime('%Y-%m-%d')\n",
    "    except ValueError:\n",
    "        return date_str \n",
    "\n",
    "sql_statements = \"\"\n",
    "\n",
    "# Process each dataset to create SQL statements\n",
    "for table_name, df in telemedicine_datasets.items():\n",
    "    columns = [\"ID INTEGER\"]\n",
    "    for col in df.columns:\n",
    "        col_type = get_sql_type_telemedicine(col)\n",
    "        columns.append(f\"{col} {col_type}\")\n",
    "    \n",
    "    indent = \"    \"\n",
    "    create_table = f\"CREATE TABLE {table_name} (\\n\" + \",\\n\".join([indent + col for col in columns]) + \"\\n);\\n\\n\"\n",
    "    sql_statements += create_table\n",
    "\n",
    "    # INSERT INTO statements\n",
    "    for i, (_, row) in enumerate(df.iterrows()):\n",
    "        values = [str(i)]\n",
    "        for col in df.columns:\n",
    "            val = row[col]\n",
    "            if col in ['Time Period Start Date', 'Time Period End Date'] and pd.notnull(val):\n",
    "                val = convert_date_format(val)\n",
    "            if pd.isnull(val):\n",
    "                values.append(\"NULL\")\n",
    "            elif get_sql_type_telemedicine(col) in [\"FLOAT\", \"INTEGER\"]:\n",
    "                values.append(str(val))\n",
    "            elif get_sql_type_telemedicine(col) == \"DATE\":\n",
    "                values.append(f\"'{val}'\")\n",
    "            else:  # TEXT\n",
    "                safe_val = str(val).replace(\"'\", \"''\")\n",
    "                values.append(f\"'{safe_val}'\")\n",
    "        insert_stmt = f\"INSERT INTO {table_name} VALUES ({', '.join(values)});\\n\"\n",
    "        sql_statements += insert_stmt\n",
    "    sql_statements += \"\\n\"\n",
    "\n",
    "# Save SQL statements to file\n",
    "sql_file_path = \"./data/telemedicine_groups.sql\"\n",
    "with open(sql_file_path, \"w\", encoding='utf-8') as f:\n",
    "    f.write(sql_statements)\n",
    "\n",
    "sql_file_path"
   ]
  },
  {
   "cell_type": "code",
   "execution_count": 6,
   "id": "f029064b-3de3-40a9-9d77-3d2c8df82536",
   "metadata": {},
   "outputs": [
    {
     "data": {
      "text/plain": [
       "'./data/medicare_cleaned.sql'"
      ]
     },
     "execution_count": 6,
     "metadata": {},
     "output_type": "execute_result"
    }
   ],
   "source": [
    "# Convert medicare_cleaned.csv to sql\n",
    "medicare_cleaned_df = pd.read_csv('./data/medicare_cleaned.csv')\n",
    "\n",
    "# Function to assign correct SQL type\n",
    "def get_sql_type_medicare(col):\n",
    "    if col in ['ID', 'Year', 'quarter', 'Total_Bene_TH_Elig', 'Total_Bene_Telehealth']:\n",
    "        return \"INTEGER\"\n",
    "    elif col == 'Pct_Telehealth':\n",
    "        return \"FLOAT\"\n",
    "    else:\n",
    "        return \"TEXT\"\n",
    "\n",
    "sql_statements = \"\"\n",
    "\n",
    "table_name = \"medicare_telehealth_cleaned\"\n",
    "\n",
    "# Process each dataset to create SQL statements\n",
    "columns = [f\"{col} {get_sql_type_medicare(col)}\" for col in medicare_cleaned_df.columns]\n",
    "\n",
    "indent = \"    \"\n",
    "create_table = f\"CREATE TABLE {table_name} (\\n\" + \",\\n\".join([indent + col for col in columns]) + \"\\n);\\n\\n\"\n",
    "sql_statements += create_table\n",
    "\n",
    "# INSERT INTO statements\n",
    "for i, (_, row) in enumerate(medicare_cleaned_df.iterrows()):\n",
    "    values = []\n",
    "    for col in medicare_cleaned_df.columns:\n",
    "        val = row[col]\n",
    "        if pd.isnull(val):\n",
    "            values.append(\"NULL\")\n",
    "        elif get_sql_type_medicare(col) in [\"INTEGER\", \"FLOAT\"]:\n",
    "            values.append(str(val))\n",
    "        else:  # TEXT\n",
    "            safe_val = str(val).replace(\"'\", \"''\")\n",
    "            values.append(f\"'{safe_val}'\")\n",
    "    insert_stmt = f\"INSERT INTO {table_name} VALUES ({', '.join(values)});\\n\"\n",
    "    sql_statements += insert_stmt\n",
    "\n",
    "# Save to SQL file\n",
    "sql_file_path = './data/medicare_cleaned.sql'\n",
    "with open(sql_file_path, 'w', encoding='utf-8') as f:\n",
    "    f.write(sql_statements)\n",
    "\n",
    "sql_file_path"
   ]
  },
  {
   "cell_type": "code",
   "execution_count": null,
   "id": "f0947d50-fee4-4b78-a4e9-64ac494bc345",
   "metadata": {},
   "outputs": [],
   "source": []
  }
 ],
 "metadata": {
  "kernelspec": {
   "display_name": "Python 3 (ipykernel)",
   "language": "python",
   "name": "python3"
  },
  "language_info": {
   "codemirror_mode": {
    "name": "ipython",
    "version": 3
   },
   "file_extension": ".py",
   "mimetype": "text/x-python",
   "name": "python",
   "nbconvert_exporter": "python",
   "pygments_lexer": "ipython3",
   "version": "3.12.8"
  }
 },
 "nbformat": 4,
 "nbformat_minor": 5
}
